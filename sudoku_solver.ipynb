{
 "cells": [
  {
   "cell_type": "markdown",
   "metadata": {},
   "source": [
    "# Sudoku\n"
   ]
  },
  {
   "cell_type": "code",
   "execution_count": null,
   "metadata": {},
   "outputs": [],
   "source": [
    "sudoku1 = [[7, 0, 0, 0, 0, 4, 0, 8, 0],\n",
    "           [0, 0, 0, 0, 0, 1, 3, 9, 6],\n",
    "           [0, 8, 0, 0, 0, 6, 0, 0, 1],\n",
    "           [8, 0, 0, 0, 0, 5, 0, 0, 2],\n",
    "           [0, 3, 0, 0, 8, 0, 0, 0, 0],\n",
    "           [0, 0, 0, 1, 4, 0, 0, 0, 0],\n",
    "           [1, 7, 0, 0, 0, 0, 0, 6, 0],\n",
    "           [0, 0, 0, 0, 0, 0, 0, 0, 0],\n",
    "           [2, 5, 0, 0, 9, 0, 0, 4, 8]]\n",
    "\n",
    "sudoku2 = [[0, 0, 0, 0, 6, 0, 0, 8, 0],\n",
    "           [0, 2, 0, 0, 0, 0, 0, 0, 0],\n",
    "           [0, 0, 1, 0, 0, 0, 0, 0, 0],\n",
    "           [0, 7, 0, 0, 0, 0, 1, 0, 2],\n",
    "           [5, 0, 0, 0, 3, 0, 0, 0, 0],\n",
    "           [0, 0, 0, 0, 0, 0, 4, 0, 0],\n",
    "           [0, 0, 4, 2, 0, 1, 0, 0, 0],\n",
    "           [3, 0, 0, 7, 0, 0, 6, 0, 0],\n",
    "           [0, 0, 0, 0, 0, 0, 0, 5, 0]]"
   ]
  },
  {
   "cell_type": "code",
   "execution_count": 2,
   "metadata": {},
   "outputs": [],
   "source": [
    "from ortools.linear_solver import pywraplp"
   ]
  },
  {
   "cell_type": "code",
   "execution_count": 3,
   "metadata": {},
   "outputs": [],
   "source": [
    "solver = pywraplp.Solver('SolveIntegerProblem', pywraplp.Solver.CBC_MIXED_INTEGER_PROGRAMMING)"
   ]
  },
  {
   "cell_type": "code",
   "execution_count": null,
   "metadata": {},
   "outputs": [],
   "source": [
    "x = {}\n",
    "\n",
    "for i in range(9):\n",
    "    for j in range(9)\n",
    "        for k in range(1, 10):\n",
    "            x[i, j, k] = solver.BoolVar(f'x[{i}, {j}, {k}]')"
   ]
  },
  {
   "cell_type": "code",
   "execution_count": null,
   "metadata": {},
   "outputs": [],
   "source": [
    "solver.Add(solver.Sum([x[i, j, k] \n",
    "                       for i in range(9) \n",
    "                       for k in range(1, 10)]) == 1)"
   ]
  },
  {
   "cell_type": "code",
   "execution_count": null,
   "metadata": {},
   "outputs": [],
   "source": [
    "#TODO\n",
    "solver.Add(solver.Sum([x[i, j, k] \n",
    "                       for j in range(9) \n",
    "                       for k in range(1, 10)]) == 1)"
   ]
  },
  {
   "cell_type": "code",
   "execution_count": null,
   "metadata": {},
   "outputs": [],
   "source": [
    "#TODO"
   ]
  },
  {
   "cell_type": "code",
   "execution_count": null,
   "metadata": {},
   "outputs": [],
   "source": [
    "#TODO"
   ]
  },
  {
   "cell_type": "code",
   "execution_count": null,
   "metadata": {},
   "outputs": [],
   "source": [
    "#TODO"
   ]
  },
  {
   "cell_type": "code",
   "execution_count": null,
   "metadata": {},
   "outputs": [],
   "source": [
    "solver.Solve()\n",
    "\n",
    "solution = []\n",
    "for i in range(9):\n",
    "    row = []\n",
    "    for j in range(9):\n",
    "        for k in range(1, 10):\n",
    "            if x[i, j, k] == 1:\n",
    "                row.append(k)\n",
    "    solution.append(row)"
   ]
  },
  {
   "cell_type": "code",
   "execution_count": null,
   "metadata": {},
   "outputs": [],
   "source": [
    "for row in solution:\n",
    "    print(row)     "
   ]
  }
 ],
 "metadata": {
  "kernelspec": {
   "display_name": "Python 3",
   "language": "python",
   "name": "python3"
  },
  "language_info": {
   "codemirror_mode": {
    "name": "ipython",
    "version": 3
   },
   "file_extension": ".py",
   "mimetype": "text/x-python",
   "name": "python",
   "nbconvert_exporter": "python",
   "pygments_lexer": "ipython3",
   "version": "3.6.8"
  }
 },
 "nbformat": 4,
 "nbformat_minor": 2
}
