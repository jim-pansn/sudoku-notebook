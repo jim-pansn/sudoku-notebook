{
 "cells": [
  {
   "cell_type": "markdown",
   "metadata": {},
   "source": [
    "# Sudoku\n",
    "\n",
    "This is a little exercise to play arround with the MIP solver provided by `ortools`\n",
    "\n",
    "Your task is to implment a sudoku solver and solve the following two sudokus. \n",
    "Of course you are more than welcome to add more sudokus and solve them all ;-)\n",
    "\n",
    "A sudoku puzzle will be encoded as a list of lists where each inner list represents a row in the sudoku. Empty cells are encoded as `0` all other number are just as they are."
   ]
  },
  {
   "cell_type": "code",
   "execution_count": 22,
   "metadata": {},
   "outputs": [],
   "source": [
    "# Two example instances\n",
    "sudoku1 = [[7, 0, 0, 0, 0, 4, 0, 8, 0],\n",
    "           [0, 0, 0, 0, 0, 1, 3, 9, 6],\n",
    "           [0, 8, 0, 0, 0, 6, 0, 0, 1],\n",
    "           [8, 0, 0, 0, 0, 5, 0, 0, 2],\n",
    "           [0, 3, 0, 0, 8, 0, 0, 0, 0],\n",
    "           [0, 0, 0, 1, 4, 0, 0, 0, 0],\n",
    "           [1, 7, 0, 0, 0, 0, 0, 6, 0],\n",
    "           [0, 0, 0, 0, 0, 0, 0, 0, 0],\n",
    "           [2, 5, 0, 0, 9, 0, 0, 4, 8]]\n",
    "\n",
    "sudoku2 = [[0, 0, 0, 0, 6, 0, 0, 8, 0],\n",
    "           [0, 2, 0, 0, 0, 0, 0, 0, 0],\n",
    "           [0, 0, 1, 0, 0, 0, 0, 0, 0],\n",
    "           [0, 7, 0, 0, 0, 0, 1, 0, 2],\n",
    "           [5, 0, 0, 0, 3, 0, 0, 0, 0],\n",
    "           [0, 0, 0, 0, 0, 0, 4, 0, 0],\n",
    "           [0, 0, 4, 2, 0, 1, 0, 0, 0],\n",
    "           [3, 0, 0, 7, 0, 0, 6, 0, 0],\n",
    "           [0, 0, 0, 0, 0, 0, 0, 5, 0]]"
   ]
  },
  {
   "cell_type": "code",
   "execution_count": 23,
   "metadata": {},
   "outputs": [],
   "source": [
    "from ortools.linear_solver import pywraplp\n",
    "\n",
    "# create a solver instance and use the open source cbc solver as backend\n",
    "solver = pywraplp.Solver('SolveIntegerProblem', pywraplp.Solver.CBC_MIXED_INTEGER_PROGRAMMING)"
   ]
  },
  {
   "cell_type": "markdown",
   "metadata": {},
   "source": [
    "Let's create a binary variable for each possible value for each cell:\n",
    "$$\n",
    " x_{i,j,k} = \n",
    "\\begin{cases}\n",
    "1, & \\text{if cell $(i, j)$ contains integer $k$}\\\\\n",
    "0, & \\text{else}\n",
    "\\end{cases}\n",
    "$$"
   ]
  },
  {
   "cell_type": "code",
   "execution_count": 24,
   "metadata": {},
   "outputs": [],
   "source": [
    "x = {}\n",
    "\n",
    "for i in range(9):\n",
    "    for j in range(9):\n",
    "        for k in range(1, 10):\n",
    "            x[i, j, k] = solver.BoolVar(f'x[{i}, {j}, {k}]')"
   ]
  },
  {
   "cell_type": "markdown",
   "metadata": {},
   "source": [
    "Add the row constraint\n",
    "$$\n",
    "\\sum_j x_{i,j,k} = 1 \\quad \\forall i, k \\quad \\text{value $k$ appears once in row $i$}\n",
    "$$"
   ]
  },
  {
   "cell_type": "code",
   "execution_count": 25,
   "metadata": {},
   "outputs": [],
   "source": [
    "for i in range(9):\n",
    "    for k in range(1, 10):\n",
    "        solver.Add(solver.Sum([x[i, j, k] for j in range(9)]) == 1)"
   ]
  },
  {
   "cell_type": "markdown",
   "metadata": {},
   "source": [
    "... the column constraint\n",
    "$$\n",
    "\\sum_i x_{i,j,k} = 1 \\quad \\forall j, k \\quad \\text{value $k$ appears once in column $j$}\\\\\n",
    "$$"
   ]
  },
  {
   "cell_type": "code",
   "execution_count": 26,
   "metadata": {},
   "outputs": [],
   "source": [
    "#TODO"
   ]
  },
  {
   "cell_type": "markdown",
   "metadata": {},
   "source": [
    "... the square constraint\n",
    "$$\n",
    "\\sum_{(i, j) \\in s} x_{i,j,k} = 1 \\quad \\forall s, k \\quad \\text{value $k$ appears once in square $s$}\n",
    "$$"
   ]
  },
  {
   "cell_type": "code",
   "execution_count": 27,
   "metadata": {},
   "outputs": [],
   "source": [
    "#TODO"
   ]
  },
  {
   "cell_type": "markdown",
   "metadata": {},
   "source": [
    "... the just one number per cell constraint\n",
    "$$\n",
    "\\sum_k x_{i,j,k} = 1 \\quad \\forall i, j \\quad \\text{cell $(i,j)$ contains one value}\n",
    "$$"
   ]
  },
  {
   "cell_type": "code",
   "execution_count": 28,
   "metadata": {},
   "outputs": [],
   "source": [
    "#TODO"
   ]
  },
  {
   "cell_type": "markdown",
   "metadata": {},
   "source": [
    "And of course we need to take into account that some cells already have a value."
   ]
  },
  {
   "cell_type": "code",
   "execution_count": 29,
   "metadata": {},
   "outputs": [],
   "source": [
    "#TODO"
   ]
  },
  {
   "cell_type": "markdown",
   "metadata": {},
   "source": [
    "Now, that we have added all constraints we can solver the MIP and retrieve the solution in a nice human readable format"
   ]
  },
  {
   "cell_type": "code",
   "execution_count": 30,
   "metadata": {},
   "outputs": [],
   "source": [
    "solver.Solve()\n",
    "\n",
    "solution = []\n",
    "for i in range(9):\n",
    "    row = []\n",
    "    for j in range(9):\n",
    "        for k in range(1, 10):\n",
    "            if x[i, j, k].SolutionValue() == 1:\n",
    "                row.append(k)\n",
    "    solution.append(row)"
   ]
  },
  {
   "cell_type": "markdown",
   "metadata": {},
   "source": [
    "Finally, we can print the solution and check if we did everyting as we wanted"
   ]
  },
  {
   "cell_type": "code",
   "execution_count": 31,
   "metadata": {},
   "outputs": [
    {
     "name": "stdout",
     "output_type": "stream",
     "text": [
      "[7, 1, 6, 9, 3, 4, 2, 8, 5]\n",
      "[4, 2, 5, 8, 7, 1, 3, 9, 6]\n",
      "[3, 8, 9, 2, 5, 6, 4, 7, 1]\n",
      "[8, 4, 7, 3, 6, 5, 9, 1, 2]\n",
      "[9, 3, 1, 7, 8, 2, 6, 5, 4]\n",
      "[5, 6, 2, 1, 4, 9, 8, 3, 7]\n",
      "[1, 7, 8, 4, 2, 3, 5, 6, 9]\n",
      "[6, 9, 4, 5, 1, 8, 7, 2, 3]\n",
      "[2, 5, 3, 6, 9, 7, 1, 4, 8]\n"
     ]
    }
   ],
   "source": [
    "for row in solution:\n",
    "    print(row)     "
   ]
  }
 ],
 "metadata": {
  "kernelspec": {
   "display_name": "Python 3",
   "language": "python",
   "name": "python3"
  },
  "language_info": {
   "codemirror_mode": {
    "name": "ipython",
    "version": 3
   },
   "file_extension": ".py",
   "mimetype": "text/x-python",
   "name": "python",
   "nbconvert_exporter": "python",
   "pygments_lexer": "ipython3",
   "version": "3.6.8"
  }
 },
 "nbformat": 4,
 "nbformat_minor": 2
}
